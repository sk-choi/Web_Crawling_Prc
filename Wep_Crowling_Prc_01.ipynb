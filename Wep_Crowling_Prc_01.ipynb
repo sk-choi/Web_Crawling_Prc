{
  "nbformat": 4,
  "nbformat_minor": 0,
  "metadata": {
    "colab": {
      "provenance": [],
      "authorship_tag": "ABX9TyNNhxN4KaEMw+nu2zEa5grd"
    },
    "kernelspec": {
      "name": "python3",
      "display_name": "Python 3"
    },
    "language_info": {
      "name": "python"
    }
  },
  "cells": [
    {
      "cell_type": "code",
      "execution_count": 1,
      "metadata": {
        "id": "qgEK_xFexoyg"
      },
      "outputs": [],
      "source": [
        "from bs4 import BeautifulSoup # Web_Crawling을 위한 Python 라이브러리 import"
      ]
    },
    {
      "cell_type": "code",
      "source": [
        "#Parsing: 문서에 포함된 텍스트의 구성 성분을 분해한다는 의미\n",
        "#Parsing을 통한 html문서 구성성분 분해\n",
        "\n",
        "html_doc = \"\"\"\n",
        "<!doctype html>\n",
        "<html>\n",
        "    <head>\n",
        "        <title> 기초 웹 크롤링 </title>\n",
        "    </head>\n",
        "    <body>\n",
        "        크롤링을 해봅시다.\n",
        "    </body>\n",
        "</html>\n",
        "\"\"\"\n",
        "\n"
      ],
      "metadata": {
        "id": "crmahm2TxxXp"
      },
      "execution_count": 2,
      "outputs": []
    },
    {
      "cell_type": "code",
      "source": [
        "bs_obj = BeautifulSoup(html_doc, \"html.parser\") #\"html.parser\" 옵션은 파서를 html.parser로 지정하는 옵션\n",
        "head = bs_obj.find(\"head\") #head 태그명만 추출\n",
        "print(head)"
      ],
      "metadata": {
        "colab": {
          "base_uri": "https://localhost:8080/"
        },
        "id": "7kgBWK4QzYyw",
        "outputId": "83ca57f4-1a06-4282-fc35-c14edd0071ca"
      },
      "execution_count": 3,
      "outputs": [
        {
          "output_type": "stream",
          "name": "stdout",
          "text": [
            "<head>\n",
            "<title> 기초 웹 크롤링 </title>\n",
            "</head>\n"
          ]
        }
      ]
    },
    {
      "cell_type": "code",
      "source": [
        "body = bs_obj.find(\"body\") #body 태그명만 추출\n",
        "print(body)"
      ],
      "metadata": {
        "colab": {
          "base_uri": "https://localhost:8080/"
        },
        "id": "dRn5BRbyz89p",
        "outputId": "975ca9ee-5b4b-480a-bce9-023b9486e135"
      },
      "execution_count": 5,
      "outputs": [
        {
          "output_type": "stream",
          "name": "stdout",
          "text": [
            "<body>\n",
            "        크롤링을 해봅시다.\n",
            "    </body>\n"
          ]
        }
      ]
    },
    {
      "cell_type": "code",
      "source": [
        "html_doc = \"\"\"\n",
        "<!DOCTYPE html>\n",
        "<html>\n",
        "    <head>\n",
        "        기초 웹 크롤링 따라하기\n",
        "    </head>\n",
        "    <body>\n",
        "        <div> 첫 번째 부분 </div>\n",
        "        <div> 두 번째 부분 </div>\n",
        "    </body>\n",
        "</html>\n",
        "\"\"\""
      ],
      "metadata": {
        "id": "T1yILglQ0GQk"
      },
      "execution_count": 6,
      "outputs": []
    },
    {
      "cell_type": "code",
      "source": [
        "bs_obj = BeautifulSoup(html_doc, \"html.parser\")\n",
        "body = bs_obj.find(\"body\")\n",
        "print(body)"
      ],
      "metadata": {
        "colab": {
          "base_uri": "https://localhost:8080/"
        },
        "id": "z6qviOqt03BM",
        "outputId": "69253c9b-f88f-408f-9d44-6ecbab0323bc"
      },
      "execution_count": 7,
      "outputs": [
        {
          "output_type": "stream",
          "name": "stdout",
          "text": [
            "<body>\n",
            "<div> 첫 번째 부분 </div>\n",
            "<div> 두 번째 부분 </div>\n",
            "</body>\n"
          ]
        }
      ]
    },
    {
      "cell_type": "code",
      "source": [
        "div1 = bs_obj.find(\"div\") #첫 번째 <div>태그의 내용만 불러옴\n",
        "print(div1)"
      ],
      "metadata": {
        "colab": {
          "base_uri": "https://localhost:8080/"
        },
        "id": "2qe_fkK-1IQO",
        "outputId": "d16f5fa4-21b7-46a4-f918-500e316edb90"
      },
      "execution_count": 10,
      "outputs": [
        {
          "output_type": "stream",
          "name": "stdout",
          "text": [
            "<div> 첫 번째 부분 </div>\n"
          ]
        }
      ]
    },
    {
      "cell_type": "code",
      "source": [
        "div_total = bs_obj.find_all(\"div\") #모든 <div>태그의 내용만 불러와서 list 자료형으로 저장\n",
        "print(div_total)"
      ],
      "metadata": {
        "colab": {
          "base_uri": "https://localhost:8080/"
        },
        "id": "KFcWrVmK1Vet",
        "outputId": "a6e16ba8-a815-4b22-ed2e-2f7122faed2e"
      },
      "execution_count": 11,
      "outputs": [
        {
          "output_type": "stream",
          "name": "stdout",
          "text": [
            "[<div> 첫 번째 부분 </div>, <div> 두 번째 부분 </div>]\n"
          ]
        }
      ]
    },
    {
      "cell_type": "code",
      "source": [
        "div2 = div_total[1] #리스트 자료형이므로 인덱스를 통해 접근이 가능하다.\n",
        "print(div2)"
      ],
      "metadata": {
        "colab": {
          "base_uri": "https://localhost:8080/"
        },
        "id": "qxLE_1Si1ow5",
        "outputId": "a39f8b05-a313-4b91-ccd0-d5b759592f3f"
      },
      "execution_count": 12,
      "outputs": [
        {
          "output_type": "stream",
          "name": "stdout",
          "text": [
            "<div> 두 번째 부분 </div>\n"
          ]
        }
      ]
    },
    {
      "cell_type": "code",
      "source": [
        "print(div2.text) #text 메서드를 통해서 태그 내의 텍스만 추출 가능"
      ],
      "metadata": {
        "colab": {
          "base_uri": "https://localhost:8080/"
        },
        "id": "vIF6D-qr1_x_",
        "outputId": "0b69d412-7200-4e33-d186-5df14d46e7e8"
      },
      "execution_count": 13,
      "outputs": [
        {
          "output_type": "stream",
          "name": "stdout",
          "text": [
            " 두 번째 부분 \n"
          ]
        }
      ]
    },
    {
      "cell_type": "code",
      "source": [
        "html_doc = \"\"\"\n",
        "<!DOCTYPE html>\n",
        "<html>\n",
        "    <head>\n",
        "        <title> 기초 웹 크롤링 </title>\n",
        "    </head>\n",
        "    <body>\n",
        "        <table border=\"1\">\n",
        "            <caption> 과일가격 </caption>\n",
        "            <tr>\n",
        "                <th> 상품 </th>\n",
        "                <th> 가격 </th>\n",
        "            </tr>\n",
        "            <tr>\n",
        "                <td> 오렌지 </td>\n",
        "                <td> 100 </td>\n",
        "            </tr>\n",
        "            <tr>\n",
        "                <td> 사과 </td>\n",
        "                <td> 150 </td>\n",
        "            </tr>\n",
        "        </table>\n",
        "\n",
        "        <table border=\"2\">\n",
        "            <caption> 의류 가격 </caption>\n",
        "            <tr>\n",
        "                <th> 상품 </th>\n",
        "                <th> 가격 </th>\n",
        "            </tr>\n",
        "            <tr>\n",
        "                <td> 셔츠 </td>\n",
        "                <td> 30000 </td>\n",
        "            </tr>\n",
        "            <tr>\n",
        "                <td> 바지 </td>\n",
        "                <td> 50000 </td>\n",
        "            </tr>\n",
        "        </table>\n",
        "    </body>\n",
        "</html>\n",
        "\"\"\"\n",
        "\n",
        "# caption 태그는 테이블의 제목을 지정\n",
        "# tr 태그는 테이블의 각 행을 나타냄\n",
        "# th, td 태그는 각각의 데이터를 표현\n",
        "# th: 열의 헤더 표현, td: 데이터의 내용 표현"
      ],
      "metadata": {
        "id": "EptfuR2Y2JSw"
      },
      "execution_count": 14,
      "outputs": []
    },
    {
      "cell_type": "code",
      "source": [
        "bs_obj = BeautifulSoup(html_doc, \"html.parser\")\n",
        "clothes = bs_obj.find_all(\"table\", {\"border\" : \"2\"}) #table 태그에서 border 속성값이 2인 부분 추출\n",
        "print(clothes)"
      ],
      "metadata": {
        "colab": {
          "base_uri": "https://localhost:8080/"
        },
        "id": "aWfWpx3C3blp",
        "outputId": "b5af8869-15f8-49a0-ed75-7bbf15aa5855"
      },
      "execution_count": 15,
      "outputs": [
        {
          "output_type": "stream",
          "name": "stdout",
          "text": [
            "[<table border=\"2\">\n",
            "<caption> 의류 가격 </caption>\n",
            "<tr>\n",
            "<th> 상품 </th>\n",
            "<th> 가격 </th>\n",
            "</tr>\n",
            "<tr>\n",
            "<td> 셔츠 </td>\n",
            "<td> 30000 </td>\n",
            "</tr>\n",
            "<tr>\n",
            "<td> 바지 </td>\n",
            "<td> 50000 </td>\n",
            "</tr>\n",
            "</table>]\n"
          ]
        }
      ]
    },
    {
      "cell_type": "code",
      "source": [
        "# 첫 번째 웹크롤링 실습\n",
        "from urllib.request import urlopen #url로 접속한 실제 웹 페이지의 html문서를 불러옴\n",
        "\n",
        "url = \"https://ai-dev.tistory.com/1\"\n",
        "html = urlopen(url) # 해당 주소에 있는 html문서를 html변수에 저장\n",
        "print(html.read())"
      ],
      "metadata": {
        "colab": {
          "base_uri": "https://localhost:8080/"
        },
        "id": "MGf1OkDv4jx7",
        "outputId": "266c0fc1-7d6f-4e87-b1bf-2ccbbd426551"
      },
      "execution_count": 18,
      "outputs": [
        {
          "output_type": "stream",
          "name": "stdout",
          "text": [
            "b'<!doctype html>\\n<html lang=\"ko\">\\n\\n                                                                                <head>\\n                <script type=\"text/javascript\">if (!window.T) { window.T = {} }\\nwindow.T.config = {\"TOP_SSL_URL\":\"https://www.tistory.com\",\"PREVIEW\":false,\"ROLE\":\"guest\",\"PREV_PAGE\":\"\",\"NEXT_PAGE\":\"\",\"BLOG\":{\"id\":4442027,\"name\":\"ai-dev\",\"title\":\"\\xec\\x9d\\xb8\\xea\\xb3\\xb5\\xec\\xa7\\x80\\xeb\\x8a\\xa5 \\xea\\xb0\\x9c\\xeb\\xb0\\x9c\\xec\\x9d\\x98 \\xeb\\xaa\\xa8\\xeb\\x93\\xa0 \\xea\\xb2\\x83\",\"isDormancy\":false,\"nickName\":\"\\xeb\\xa1\\x9c\\xec\\x8a\\xa4\\xec\\xb9\\xb4\\xec\\xb8\\xa0\",\"status\":\"open\",\"profileStatus\":\"normal\"},\"NEED_COMMENT_LOGIN\":false,\"COMMENT_LOGIN_CONFIRM_MESSAGE\":\"\",\"LOGIN_URL\":\"https://www.tistory.com/auth/login/?redirectUrl=https://ai-dev.tistory.com/1\",\"DEFAULT_URL\":\"https://ai-dev.tistory.com\",\"USER\":{\"name\":null,\"homepage\":null,\"id\":0,\"profileImage\":null},\"SUBSCRIPTION\":{\"status\":\"none\",\"isConnected\":false,\"isPending\":false,\"isWait\":false,\"isProcessing\":false,\"isNone\":true},\"IS_LOGIN\":false,\"HAS_BLOG\":false,\"IS_SUPPORT\":false,\"TOP_URL\":\"http://www.tistory.com\",\"JOIN_URL\":\"https://www.tistory.com/member/join\",\"ROLE_GROUP\":\"visitor\"};\\nwindow.T.entryInfo = {\"entryId\":1,\"isAuthor\":false,\"categoryId\":836119,\"categoryLabel\":\"\\xed\\x81\\xac\\xeb\\xa1\\xa4\\xeb\\xa7\\x81\"};\\nwindow.appInfo = {\"domain\":\"tistory.com\",\"topUrl\":\"https://www.tistory.com\",\"loginUrl\":\"https://www.tistory.com/auth/login\",\"logoutUrl\":\"https://www.tistory.com/auth/logout\"};\\nwindow.initData = {};\\n\\nwindow.TistoryBlog = {\\n    basePath: \"\",\\n    url: \"https://ai-dev.tistory.com\",\\n    tistoryUrl: \"https://ai-dev.tistory.com\",\\n    manageUrl: \"https://ai-dev.tistory.com/manage\",\\n    token: \"j3q70bk1KFN3ImP3oy1Na8x9AlYau1nCnZ+66oPUCrJ2p3mGoc6Ei1qQPa7t+7eN\"\\n};\\nvar servicePath = \"\";\\nvar blogURL = \"\";</script>\\n\\n                \\n                \\n                \\n                        <!-- BusinessLicenseInfo - START -->\\n        \\n            <link href=\"https://tistory1.daumcdn.net/tistory_admin/userblog/tistory-b023ef240b5354b4032720d25c4381285c0333f9/static/plugin/BusinessLicenseInfo/style.css\" rel=\"stylesheet\" type=\"text/css\"/>\\n\\n            <script>function switchFold(entryId) {\\n    var businessLayer = document.getElementById(\"businessInfoLayer_\" + entryId);\\n\\n    if (businessLayer) {\\n        if (businessLayer.className.indexOf(\"unfold_license\") > 0) {\\n            businessLayer.className = \"business_license_layer\";\\n        } else {\\n            businessLayer.className = \"business_license_layer unfold_license\";\\n        }\\n    }\\n}\\n</script>\\n\\n        \\n        <!-- BusinessLicenseInfo - END -->\\n        <!-- DaumShow - START -->\\n        <style type=\"text/css\">#daumSearchBox {\\n    height: 21px;\\n    background-image: url(//i1.daumcdn.net/imgsrc.search/search_all/show/tistory/plugin/bg_search2_2.gif);\\n    margin: 5px auto;\\n    padding: 0;\\n}\\n\\n#daumSearchBox input {\\n    background: none;\\n    margin: 0;\\n    padding: 0;\\n    border: 0;\\n}\\n\\n#daumSearchBox #daumLogo {\\n    width: 34px;\\n    height: 21px;\\n    float: left;\\n    margin-right: 5px;\\n    background-image: url(//i1.daumcdn.net/img-media/tistory/img/bg_search1_2_2010ci.gif);\\n}\\n\\n#daumSearchBox #show_q {\\n    background-color: transparent;\\n    border: none;\\n    font: 12px Gulim, Sans-serif;\\n    color: #555;\\n    margin-top: 4px;\\n    margin-right: 15px;\\n    float: left;\\n}\\n\\n#daumSearchBox #show_btn {\\n    background-image: url(//i1.daumcdn.net/imgsrc.search/search_all/show/tistory/plugin/bt_search_2.gif);\\n    width: 37px;\\n    height: 21px;\\n    float: left;\\n    margin: 0;\\n    cursor: pointer;\\n    text-indent: -1000em;\\n}\\n</style>\\n\\n        <!-- DaumShow - END -->\\n\\n<!-- System - START -->\\n\\n<!-- System - END -->\\n\\n        <!-- TistoryProfileLayer - START -->\\n        <link href=\"https://tistory1.daumcdn.net/tistory_admin/userblog/tistory-b023ef240b5354b4032720d25c4381285c0333f9/static/plugin/TistoryProfileLayer/style.css\" rel=\"stylesheet\" type=\"text/css\"/>\\n<script type=\"text/javascript\" src=\"https://tistory1.daumcdn.net/tistory_admin/userblog/tistory-b023ef240b5354b4032720d25c4381285c0333f9/static/plugin/TistoryProfileLayer/script.js\"></script>\\n\\n        <!-- TistoryProfileLayer - END -->\\n\\n                \\n                <meta http-equiv=\"X-UA-Compatible\" content=\"IE=Edge\">\\n<meta name=\"format-detection\" content=\"telephone=no\">\\n<script src=\"//t1.daumcdn.net/tistory_admin/lib/jquery/jquery-3.5.1.min.js\" integrity=\"sha256-9/aliU8dGd2tb6OSsuzixeV4y/faTqgFtohetphbbj0=\" crossorigin=\"anonymous\"></script>\\n<script src=\"//t1.daumcdn.net/tistory_admin/lib/lightbox/js/lightbox-v2.10.0.min.js\" defer></script>\\n<script type=\"text/javascript\" src=\"//t1.daumcdn.net/tiara/js/v1/tiara.min.js\"></script><meta name=\"referrer\" content=\"always\"/>\\n<meta name=\"google-adsense-platform-account\" content=\"ca-host-pub-9691043933427338\"/>\\n<meta name=\"google-adsense-platform-domain\" content=\"tistory.com\"/>\\n<meta name=\"description\" content=\"Hello, world!\"/>\\n<meta property=\"og:type\" content=\"article\"/>\\n<meta property=\"og:url\" content=\"https://ai-dev.tistory.com/1\"/>\\n<meta property=\"og.article.author\" content=\"\\xeb\\xa1\\x9c\\xec\\x8a\\xa4\\xec\\xb9\\xb4\\xec\\xb8\\xa0\"/>\\n<meta property=\"og:site_name\" content=\"\\xec\\x9d\\xb8\\xea\\xb3\\xb5\\xec\\xa7\\x80\\xeb\\x8a\\xa5 \\xea\\xb0\\x9c\\xeb\\xb0\\x9c\\xec\\x9d\\x98 \\xeb\\xaa\\xa8\\xeb\\x93\\xa0 \\xea\\xb2\\x83\"/>\\n<meta property=\"og:title\" content=\"\\xed\\x81\\xac\\xeb\\xa1\\xa4\\xeb\\xa7\\x81\\xec\\x9d\\x98 \\xec\\x84\\xb8\\xea\\xb3\\x84\\xec\\x97\\x90 \\xec\\x98\\xa4\\xec\\x8b\\xa0 \\xea\\xb2\\x83\\xec\\x9d\\x84 \\xed\\x99\\x98\\xec\\x98\\x81\\xed\\x95\\xa9\\xeb\\x8b\\x88\\xeb\\x8b\\xa4.\"/>\\n<meta name=\"by\" content=\"\\xeb\\xa1\\x9c\\xec\\x8a\\xa4\\xec\\xb9\\xb4\\xec\\xb8\\xa0\"/>\\n<meta property=\"og:description\" content=\"Hello, world!\"/>\\n<meta property=\"og:image\" content=\"https://img1.daumcdn.net/thumb/R800x0/?scode=mtistory2&fname=https%3A%2F%2Ft1.daumcdn.net%2Ftistory_admin%2Fstatic%2Fimages%2FopenGraph%2Fopengraph.png\"/>\\n<meta name=\"twitter:card\" content=\"summary_large_image\"/>\\n<meta name=\"twitter:site\" content=\"@TISTORY\"/>\\n<meta name=\"twitter:title\" content=\"\\xed\\x81\\xac\\xeb\\xa1\\xa4\\xeb\\xa7\\x81\\xec\\x9d\\x98 \\xec\\x84\\xb8\\xea\\xb3\\x84\\xec\\x97\\x90 \\xec\\x98\\xa4\\xec\\x8b\\xa0 \\xea\\xb2\\x83\\xec\\x9d\\x84 \\xed\\x99\\x98\\xec\\x98\\x81\\xed\\x95\\xa9\\xeb\\x8b\\x88\\xeb\\x8b\\xa4.\"/>\\n<meta name=\"twitter:description\" content=\"Hello, world!\"/>\\n<meta property=\"twitter:image\" content=\"https://img1.daumcdn.net/thumb/R800x0/?scode=mtistory2&fname=https%3A%2F%2Ft1.daumcdn.net%2Ftistory_admin%2Fstatic%2Fimages%2FopenGraph%2Fopengraph.png\"/>\\n<meta content=\"https://ai-dev.tistory.com/1\" property=\"dg:plink\" content=\"https://ai-dev.tistory.com/1\"/>\\n<meta name=\"plink\"/>\\n<meta name=\"title\" content=\"\\xed\\x81\\xac\\xeb\\xa1\\xa4\\xeb\\xa7\\x81\\xec\\x9d\\x98 \\xec\\x84\\xb8\\xea\\xb3\\x84\\xec\\x97\\x90 \\xec\\x98\\xa4\\xec\\x8b\\xa0 \\xea\\xb2\\x83\\xec\\x9d\\x84 \\xed\\x99\\x98\\xec\\x98\\x81\\xed\\x95\\xa9\\xeb\\x8b\\x88\\xeb\\x8b\\xa4.\"/>\\n<meta name=\"article:media_name\" content=\"\\xec\\x9d\\xb8\\xea\\xb3\\xb5\\xec\\xa7\\x80\\xeb\\x8a\\xa5 \\xea\\xb0\\x9c\\xeb\\xb0\\x9c\\xec\\x9d\\x98 \\xeb\\xaa\\xa8\\xeb\\x93\\xa0 \\xea\\xb2\\x83\"/>\\n<meta property=\"article:mobile_url\" content=\"https://ai-dev.tistory.com/m/1\"/>\\n<meta property=\"article:pc_url\" content=\"https://ai-dev.tistory.com/1\"/>\\n<meta property=\"article:mobile_view_url\" content=\"https://ai-dev.tistory.com/m/1\"/>\\n<meta property=\"article:pc_view_url\" content=\"https://ai-dev.tistory.com/1\"/>\\n<meta property=\"article:talk_channel_view_url\" content=\"https://ai-dev.tistory.com/m/1\"/>\\n<meta property=\"article:pc_service_home\" content=\"https://www.tistory.com\"/>\\n<meta property=\"article:mobile_service_home\" content=\"https://www.tistory.com/m\"/>\\n<meta property=\"article:txid\" content=\"4442027_1\"/>\\n<meta property=\"article:published_time\" content=\"2021-01-21T14:06:56+09:00\"/>\\n<meta property=\"og:regDate\" content=\"20210121020656\"/>\\n<meta property=\"article:modified_time\" content=\"2021-01-21T14:06:56+09:00\"/>\\n<link rel=\"icon\" sizes=\"any\" href=\"https://t1.daumcdn.net/tistory_admin/favicon/tistory_favicon_32x32.ico\"/>\\n<link rel=\"icon\" type=\"image/svg+xml\" href=\"https://t1.daumcdn.net/tistory_admin/top_v2/bi-tistory-favicon.svg\"/>\\n<link rel=\"apple-touch-icon\" href=\"https://t1.daumcdn.net/tistory_admin/top_v2/tistory-apple-touch-favicon.png\"/>\\n<link rel=\"stylesheet\" type=\"text/css\" href=\"https://t1.daumcdn.net/tistory_admin/lib/lightbox/css/lightbox.min.css\"/>\\n<link rel=\"stylesheet\" type=\"text/css\" href=\"https://tistory1.daumcdn.net/tistory_admin/userblog/tistory-b023ef240b5354b4032720d25c4381285c0333f9/static/style/font.css\"/>\\n<link rel=\"stylesheet\" type=\"text/css\" href=\"https://tistory1.daumcdn.net/tistory_admin/userblog/tistory-b023ef240b5354b4032720d25c4381285c0333f9/static/style/content.css\"/>\\n<link rel=\"stylesheet\" type=\"text/css\" href=\"https://tistory1.daumcdn.net/tistory_admin/userblog/tistory-b023ef240b5354b4032720d25c4381285c0333f9/static/style/uselessPMargin.css\"/>\\n<script type=\"text/javascript\">(function() {\\n    var tjQuery = jQuery.noConflict(true);\\n    window.tjQuery = tjQuery;\\n    window.orgjQuery = window.jQuery; window.jQuery = tjQuery;\\n    window.jQuery = window.orgjQuery; delete window.orgjQuery;\\n})()</script>\\n<script type=\"text/javascript\" src=\"https://tistory1.daumcdn.net/tistory_admin/userblog/tistory-b023ef240b5354b4032720d25c4381285c0333f9/static/script/base.js\"></script>\\n<script type=\"text/javascript\" src=\"//developers.kakao.com/sdk/js/kakao.min.js\"></script>\\n\\n                \\n  <meta charset=\"UTF-8\">\\n  <meta name=\"viewport\"\\n    content=\"user-scalable=no, initial-scale=1.0, maximum-scale=1.0, minimum-scale=1.0, width=device-width\">\\n  <title>\\xed\\x81\\xac\\xeb\\xa1\\xa4\\xeb\\xa7\\x81\\xec\\x9d\\x98 \\xec\\x84\\xb8\\xea\\xb3\\x84\\xec\\x97\\x90 \\xec\\x98\\xa4\\xec\\x8b\\xa0 \\xea\\xb2\\x83\\xec\\x9d\\x84 \\xed\\x99\\x98\\xec\\x98\\x81\\xed\\x95\\xa9\\xeb\\x8b\\x88\\xeb\\x8b\\xa4.</title>\\n  <link rel=\"stylesheet\" href=\"https://tistory1.daumcdn.net/tistory/0/pg_Poster/style.css\">\\n  <script src=\"//t1.daumcdn.net/tistory_admin/lib/jquery/jquery-1.12.4.min.js\"></script>\\n\\n                \\n                \\n                <style type=\"text/css\">.another_category {\\n    border: 1px solid #E5E5E5;\\n    padding: 10px 10px 5px;\\n    margin: 10px 0;\\n    clear: both;\\n}\\n\\n.another_category h4 {\\n    font-size: 12px !important;\\n    margin: 0 !important;\\n    border-bottom: 1px solid #E5E5E5 !important;\\n    padding: 2px 0 6px !important;\\n}\\n\\n.another_category h4 a {\\n    font-weight: bold !important;\\n}\\n\\n.another_category table {\\n    table-layout: fixed;\\n    border-collapse: collapse;\\n    width: 100% !important;\\n    margin-top: 10px !important;\\n}\\n\\n* html .another_category table {\\n    width: auto !important;\\n}\\n\\n*:first-child + html .another_category table {\\n    width: auto !important;\\n}\\n\\n.another_category th, .another_category td {\\n    padding: 0 0 4px !important;\\n}\\n\\n.another_category th {\\n    text-align: left;\\n    font-size: 12px !important;\\n    font-weight: normal;\\n    word-break: break-all;\\n    overflow: hidden;\\n    line-height: 1.5;\\n}\\n\\n.another_category td {\\n    text-align: right;\\n    width: 80px;\\n    font-size: 11px;\\n}\\n\\n.another_category th a {\\n    font-weight: normal;\\n    text-decoration: none;\\n    border: none !important;\\n}\\n\\n.another_category th a.current {\\n    font-weight: bold;\\n    text-decoration: none !important;\\n    border-bottom: 1px solid !important;\\n}\\n\\n.another_category th span {\\n    font-weight: normal;\\n    text-decoration: none;\\n    font: 10px Tahoma, Sans-serif;\\n    border: none !important;\\n}\\n\\n.another_category_color_gray, .another_category_color_gray h4 {\\n    border-color: #E5E5E5 !important;\\n}\\n\\n.another_category_color_gray * {\\n    color: #909090 !important;\\n}\\n\\n.another_category_color_gray th a.current {\\n    border-color: #909090 !important;\\n}\\n\\n.another_category_color_gray h4, .another_category_color_gray h4 a {\\n    color: #737373 !important;\\n}\\n\\n.another_category_color_red, .another_category_color_red h4 {\\n    border-color: #F6D4D3 !important;\\n}\\n\\n.another_category_color_red * {\\n    color: #E86869 !important;\\n}\\n\\n.another_category_color_red th a.current {\\n    border-color: #E86869 !important;\\n}\\n\\n.another_category_color_red h4, .another_category_color_red h4 a {\\n    color: #ED0908 !important;\\n}\\n\\n.another_category_color_green, .another_category_color_green h4 {\\n    border-color: #CCE7C8 !important;\\n}\\n\\n.another_category_color_green * {\\n    color: #64C05B !important;\\n}\\n\\n.another_category_color_green th a.current {\\n    border-color: #64C05B !important;\\n}\\n\\n.another_category_color_green h4, .another_category_color_green h4 a {\\n    color: #3EA731 !important;\\n}\\n\\n.another_category_color_blue, .another_category_color_blue h4 {\\n    border-color: #C8DAF2 !important;\\n}\\n\\n.another_category_color_blue * {\\n    color: #477FD6 !important;\\n}\\n\\n.another_category_color_blue th a.current {\\n    border-color: #477FD6 !important;\\n}\\n\\n.another_category_color_blue h4, .another_category_color_blue h4 a {\\n    color: #1960CA !important;\\n}\\n\\n.another_category_color_violet, .another_category_color_violet h4 {\\n    border-color: #E1CEEC !important;\\n}\\n\\n.another_category_color_violet * {\\n    color: #9D64C5 !important;\\n}\\n\\n.another_category_color_violet th a.current {\\n    border-color: #9D64C5 !important;\\n}\\n\\n.another_category_color_violet h4, .another_category_color_violet h4 a {\\n    color: #7E2CB5 !important;\\n}\\n</style>\\n\\n                \\n                <link rel=\"stylesheet\" type=\"text/css\" href=\"https://tistory1.daumcdn.net/tistory_admin/userblog/tistory-b023ef240b5354b4032720d25c4381285c0333f9/static/style/revenue.css\"/>\\n<link rel=\"canonical\" href=\"https://ai-dev.tistory.com/1\"/>\\n\\n<!-- BEGIN STRUCTURED_DATA -->\\n<script type=\"application/ld+json\">\\n    {\"@context\":\"http://schema.org\",\"@type\":\"BlogPosting\",\"mainEntityOfPage\":{\"@id\":\"https://ai-dev.tistory.com/1\",\"name\":null},\"url\":\"https://ai-dev.tistory.com/1\",\"headline\":\"\\xed\\x81\\xac\\xeb\\xa1\\xa4\\xeb\\xa7\\x81\\xec\\x9d\\x98 \\xec\\x84\\xb8\\xea\\xb3\\x84\\xec\\x97\\x90 \\xec\\x98\\xa4\\xec\\x8b\\xa0 \\xea\\xb2\\x83\\xec\\x9d\\x84 \\xed\\x99\\x98\\xec\\x98\\x81\\xed\\x95\\xa9\\xeb\\x8b\\x88\\xeb\\x8b\\xa4.\",\"description\":\"Hello, world!\",\"author\":{\"@type\":\"Person\",\"name\":\"\\xeb\\xa1\\x9c\\xec\\x8a\\xa4\\xec\\xb9\\xb4\\xec\\xb8\\xa0\",\"logo\":null},\"image\":{\"@type\":\"ImageObject\",\"url\":\"https://img1.daumcdn.net/thumb/R800x0/?scode=mtistory2&fname=https%3A%2F%2Ft1.daumcdn.net%2Ftistory_admin%2Fstatic%2Fimages%2FopenGraph%2Fopengraph.png\",\"width\":\"800px\",\"height\":\"800px\"},\"datePublished\":\"20210121T14:06:56\",\"dateModified\":\"20210121T14:06:56\",\"publisher\":{\"@type\":\"Organization\",\"name\":\"TISTORY\",\"logo\":{\"@type\":\"ImageObject\",\"url\":\"https://t1.daumcdn.net/tistory_admin/static/images/openGraph/opengraph.png\",\"width\":\"800px\",\"height\":\"800px\"}}}\\n</script>\\n<!-- END STRUCTURED_DATA -->\\n<link rel=\"stylesheet\" type=\"text/css\" href=\"https://tistory1.daumcdn.net/tistory_admin/userblog/tistory-b023ef240b5354b4032720d25c4381285c0333f9/static/style/dialog.css\"/>\\n<link rel=\"stylesheet\" type=\"text/css\" href=\"//t1.daumcdn.net/tistory_admin/www/style/top/font.css\"/>\\n<link rel=\"stylesheet\" type=\"text/css\" href=\"https://tistory1.daumcdn.net/tistory_admin/userblog/tistory-b023ef240b5354b4032720d25c4381285c0333f9/static/style/postBtn.css\"/>\\n<link rel=\"stylesheet\" type=\"text/css\" href=\"https://tistory1.daumcdn.net/tistory_admin/userblog/tistory-b023ef240b5354b4032720d25c4381285c0333f9/static/style/comment.css\"/>\\n<link rel=\"stylesheet\" type=\"text/css\" href=\"https://tistory1.daumcdn.net/tistory_admin/userblog/tistory-b023ef240b5354b4032720d25c4381285c0333f9/static/style/tistory.css\"/>\\n<script type=\"text/javascript\" src=\"https://tistory1.daumcdn.net/tistory_admin/userblog/tistory-b023ef240b5354b4032720d25c4381285c0333f9/static/script/common.js\"></script>\\n<script type=\"text/javascript\" src=\"https://tistory1.daumcdn.net/tistory_admin/userblog/tistory-b023ef240b5354b4032720d25c4381285c0333f9/static/script/comment.js\" defer=\"\"></script>\\n\\n                \\n                </head>\\n\\n                                                <body id=\"tt-body-page\"\\n  class=\"color-gray post-type-text paging-view-more\">\\n                \\n                \\n                \\n  \\n    <div id=\"acc-nav\">\\n      <a href=\"#content\">\\xeb\\xb3\\xb8\\xeb\\xac\\xb8 \\xeb\\xb0\\x94\\xeb\\xa1\\x9c\\xea\\xb0\\x80\\xea\\xb8\\xb0</a>\\n    </div>\\n    <div id=\"wrap\">\\n      <header id=\"header\">\\n        <h1><a href=\"https://ai-dev.tistory.com/\">\\xec\\x9d\\xb8\\xea\\xb3\\xb5\\xec\\xa7\\x80\\xeb\\x8a\\xa5 \\xea\\xb0\\x9c\\xeb\\xb0\\x9c\\xec\\x9d\\x98 \\xeb\\xaa\\xa8\\xeb\\x93\\xa0 \\xea\\xb2\\x83</a></h1>\\n        <button type=\"button\" class=\"mobile-menu\"><span>\\xeb\\xa9\\x94\\xeb\\x89\\xb4</span></button>\\n        <div class=\"menu\">\\n          <nav id=\"gnb\">\\n            <ul class=\"tt_category\"><li class=\"\"><a href=\"/category\" class=\"link_tit\"> \\xeb\\xb6\\x84\\xeb\\xa5\\x98 \\xec\\xa0\\x84\\xec\\xb2\\xb4\\xeb\\xb3\\xb4\\xea\\xb8\\xb0 <span class=\"c_cnt\">(2)</span> </a>\\n  <ul class=\"category_list\"><li class=\"\"><a href=\"/category/%ED%81%AC%EB%A1%A4%EB%A7%81\" class=\"link_item\"> \\xed\\x81\\xac\\xeb\\xa1\\xa4\\xeb\\xa7\\x81 <span class=\"c_cnt\">(2)</span> </a></li>\\n</ul>\\n</li>\\n</ul>\\n\\n          </nav>\\n          <div class=\"social-link\">\\n            \\n            \\n            \\n            \\n          </div>\\n          <p>POWERED BY TISTORY</p>\\n        </div>\\n        <div class=\"search\">\\n          \\n            <label for=\"search\" class=\"screen_out\">\\xeb\\xb8\\x94\\xeb\\xa1\\x9c\\xea\\xb7\\xb8 \\xeb\\x82\\xb4 \\xea\\xb2\\x80\\xec\\x83\\x89</label>\\n            <input id=\"search\" type=\"text\" name=\"search\" value=\"\"\\n              placeholder=\"\\xea\\xb2\\x80\\xec\\x83\\x89\\xeb\\x82\\xb4\\xec\\x9a\\xa9\\xec\\x9d\\x84 \\xec\\x9e\\x85\\xeb\\xa0\\xa5\\xed\\x95\\x98\\xec\\x84\\xb8\\xec\\x9a\\x94.\" onkeypress=\"if (event.keyCode == 13) { try {\\n    window.location.href = \\'/search\\' + \\'/\\' + looseURIEncode(document.getElementsByName(\\'search\\')[0].value);\\n    document.getElementsByName(\\'search\\')[0].value = \\'\\';\\n    return false;\\n} catch (e) {} }\">\\n            <button type=\"submit\" onclick=\"try {\\n    window.location.href = \\'/search\\' + \\'/\\' + looseURIEncode(document.getElementsByName(\\'search\\')[0].value);\\n    document.getElementsByName(\\'search\\')[0].value = \\'\\';\\n    return false;\\n} catch (e) {}\">\\xea\\xb2\\x80\\xec\\x83\\x89</button>\\n          \\n        </div>\\n      </header>\\n      <hr>\\n      <section class=\"container\">\\n        \\n        <article id=\"content\">\\n          \\n\\n          \\n\\n          \\n\\n          \\n\\n          <div class=\"inner\">\\n            \\n\\n                \\n        \\n  \\n  \\n    <div class=\"hgroup\">\\n      <div class=\"category\">\\xed\\x81\\xac\\xeb\\xa1\\xa4\\xeb\\xa7\\x81</div>\\n      <h1>\\xed\\x81\\xac\\xeb\\xa1\\xa4\\xeb\\xa7\\x81\\xec\\x9d\\x98 \\xec\\x84\\xb8\\xea\\xb3\\x84\\xec\\x97\\x90 \\xec\\x98\\xa4\\xec\\x8b\\xa0 \\xea\\xb2\\x83\\xec\\x9d\\x84 \\xed\\x99\\x98\\xec\\x98\\x81\\xed\\x95\\xa9\\xeb\\x8b\\x88\\xeb\\x8b\\xa4. </h1>\\n      <div class=\"post-meta\">\\n        <span class=\"author\">\\xeb\\xa1\\x9c\\xec\\x8a\\xa4\\xec\\xb9\\xb4\\xec\\xb8\\xa0</span>\\n        <span class=\"date\">2021. 1. 21. 14:06</span>\\n        \\n      </div>\\n    </div>\\n    <div class=\"entry-content\" id=\"article-view\">\\n                  <!-- System - START -->\\n\\n<!-- System - END -->\\n\\n            <div class=\"tt_article_useless_p_margin contents_style\"><p>Hello, world!</p></div>\\n            <!-- System - START -->\\n\\n<!-- System - END -->\\n\\n                    <div class=\"container_postbtn #post_button_group\">\\n  <div class=\"postbtn_like\"><script>window.ReactionButtonType = \\'reaction\\';\\nwindow.ReactionApiUrl = \\'//ai-dev.tistory.com/reaction\\';\\nwindow.ReactionReqBody = {\\n    entryId: 1\\n}</script>\\n<div class=\"wrap_btn\" id=\"reaction-1\"></div>\\n<script src=\"https://tistory1.daumcdn.net/tistory_admin/userblog/tistory-b023ef240b5354b4032720d25c4381285c0333f9/static/script/reaction-button-container.min.js\"></script><div class=\"wrap_btn wrap_btn_share\"><button type=\"button\" class=\"btn_post sns_btn btn_share\" aria-expanded=\"false\" data-thumbnail-url=\"https://t1.daumcdn.net/tistory_admin/static/images/openGraph/opengraph.png\" data-title=\"\\xed\\x81\\xac\\xeb\\xa1\\xa4\\xeb\\xa7\\x81\\xec\\x9d\\x98 \\xec\\x84\\xb8\\xea\\xb3\\x84\\xec\\x97\\x90 \\xec\\x98\\xa4\\xec\\x8b\\xa0 \\xea\\xb2\\x83\\xec\\x9d\\x84 \\xed\\x99\\x98\\xec\\x98\\x81\\xed\\x95\\xa9\\xeb\\x8b\\x88\\xeb\\x8b\\xa4.\" data-description=\"Hello, world!\" data-profile-image=\"https://t1.daumcdn.net/tistory_admin/static/manage/images/r3/default_L.png\" data-profile-name=\"\\xeb\\xa1\\x9c\\xec\\x8a\\xa4\\xec\\xb9\\xb4\\xec\\xb8\\xa0\" data-pc-url=\"https://ai-dev.tistory.com/1\" data-relative-pc-url=\"/1\" data-blog-title=\"\\xec\\x9d\\xb8\\xea\\xb3\\xb5\\xec\\xa7\\x80\\xeb\\x8a\\xa5 \\xea\\xb0\\x9c\\xeb\\xb0\\x9c\\xec\\x9d\\x98 \\xeb\\xaa\\xa8\\xeb\\x93\\xa0 \\xea\\xb2\\x83\"><span class=\"ico_postbtn ico_share\">\\xea\\xb3\\xb5\\xec\\x9c\\xa0\\xed\\x95\\x98\\xea\\xb8\\xb0</span></button>\\n  <div class=\"layer_post\" id=\"tistorySnsLayer\"></div>\\n</div><div class=\"wrap_btn wrap_btn_etc\" data-entry-id=\"1\" data-entry-visibility=\"public\" data-category-visibility=\"public\"><button type=\"button\" class=\"btn_post btn_etc2\" aria-expanded=\"false\"><span class=\"ico_postbtn ico_etc\">\\xea\\xb2\\x8c\\xec\\x8b\\x9c\\xea\\xb8\\x80 \\xea\\xb4\\x80\\xeb\\xa6\\xac</span></button>\\n  <div class=\"layer_post\" id=\"tistoryEtcLayer\"></div>\\n</div></div>\\n<button type=\"button\" class=\"btn_menu_toolbar btn_subscription  #subscribe\" data-blog-id=\"4442027\" data-url=\"https://ai-dev.tistory.com/1\" data-device=\"web_pc\"><em class=\"txt_state\">\\xea\\xb5\\xac\\xeb\\x8f\\x85\\xed\\x95\\x98\\xea\\xb8\\xb0</em><strong class=\"txt_tool_id\">\\xec\\x9d\\xb8\\xea\\xb3\\xb5\\xec\\xa7\\x80\\xeb\\x8a\\xa5 \\xea\\xb0\\x9c\\xeb\\xb0\\x9c\\xec\\x9d\\x98 \\xeb\\xaa\\xa8\\xeb\\x93\\xa0 \\xea\\xb2\\x83</strong><span class=\"img_common_tistory ico_check_type1\"></span></button>  <div data-tistory-react-app=\"SupportButton\"></div>\\n</div>\\n\\n                    <!-- PostListinCategory - START -->\\n<div class=\"another_category another_category_color_gray\">\\n  <h4>\\'<a href=\"/category/%ED%81%AC%EB%A1%A4%EB%A7%81\">\\xed\\x81\\xac\\xeb\\xa1\\xa4\\xeb\\xa7\\x81</a>\\' \\xec\\xb9\\xb4\\xed\\x85\\x8c\\xea\\xb3\\xa0\\xeb\\xa6\\xac\\xec\\x9d\\x98 \\xeb\\x8b\\xa4\\xeb\\xa5\\xb8 \\xea\\xb8\\x80</h4>\\n  <table>\\n    <tr>\\n      <th><a href=\"/2\">\\xed\\x81\\xac\\xeb\\xa1\\xa4\\xeb\\xa7\\x81 \\xec\\x98\\x88\\xec\\xa0\\x9c \\xed\\x8e\\x98\\xec\\x9d\\xb4\\xec\\xa7\\x80 - 02</a>&nbsp;&nbsp;<span>(6)</span></th>\\n      <td>2021.08.08</td>\\n    </tr>\\n  </table>\\n</div>\\n\\n<!-- PostListinCategory - END -->\\n\\n    </div>\\n    \\n\\n    \\n      <div class=\"related-articles\">\\n        <h2><strong>\\'\\xed\\x81\\xac\\xeb\\xa1\\xa4\\xeb\\xa7\\x81\\'</strong> Related Articles</h2>\\n        <ul>\\n          \\n            <li>\\n              <a href=\"/2?category=836119\">\\n                <span class=\"thum\">\\n                  \\n                </span>\\n                <span class=\"title\">\\xed\\x81\\xac\\xeb\\xa1\\xa4\\xeb\\xa7\\x81 \\xec\\x98\\x88\\xec\\xa0\\x9c \\xed\\x8e\\x98\\xec\\x9d\\xb4\\xec\\xa7\\x80 - 02</span>\\n              </a>\\n            </li>\\n          \\n        </ul>\\n      </div>\\n    \\n\\n    <div data-tistory-react-app=\"Namecard\"></div><div id=\"entry1Comment\">\\n      <div class=\"comments\">\\n        <div data-tistory-react-app=\"Comment\"></div>\\n\\n      </div>\\n    </div>\\n<script type=\"text/javascript\">loadedComments[1]=true;\\nfindFragmentAndHighlight(1);</script>\\n\\n\\n  \\n\\n        \\n    \\n          </div>\\n\\n          \\n\\n          \\n\\n          \\n\\n        </article>\\n      </section>\\n      <hr>\\n      \\n      <footer id=\"footer\">\\n        <p class=\"copyright\">DESIGN BY <a href=\"#\">TISTORY</a> <a href=\"https://ai-dev.tistory.com/manage\" class=\"admin\">\\xea\\xb4\\x80\\xeb\\xa6\\xac\\xec\\x9e\\x90</a></p>\\n      </footer>\\n    </div>\\n    <script src=\"https://tistory1.daumcdn.net/tistory/0/pg_Poster/images/script.js\"></script>\\n  \\n<div class=\"#menubar menu_toolbar \">\\n  <h2 class=\"screen_out\">\\xed\\x8b\\xb0\\xec\\x8a\\xa4\\xed\\x86\\xa0\\xeb\\xa6\\xac\\xed\\x88\\xb4\\xeb\\xb0\\x94</h2>\\n</div>\\n<div class=\"#menubar menu_toolbar \"></div>\\n<div class=\"layer_tooltip\">\\n  <div class=\"inner_layer_tooltip\">\\n    <p class=\"desc_g\"></p>\\n  </div>\\n</div>\\n<iframe id=\"editEntry\" style=\"position:absolute;width:1px;height:1px;left:-100px;top:-100px\" src=\"//ai-dev.tistory.com/api\"></iframe>\\n\\n                <!-- DragSearchHandler - START -->\\n<script src=\"//search1.daumcdn.net/search/statics/common/js/g/search_dragselection.min.js\"></script>\\n\\n<!-- DragSearchHandler - END -->\\n\\n                \\n                <script type=\"text/javascript\">(function($) {\\n    $(document).ready(function() {\\n        lightbox.options.fadeDuration = 200;\\n        lightbox.options.resizeDuration = 200;\\n        lightbox.options.wrapAround = false;\\n        lightbox.options.albumLabel = \"%1 / %2\";\\n    })\\n})(tjQuery);</script>\\n<div style=\"margin:0; padding:0; border:none; background:none; float:none; clear:none; z-index:0\"></div>\\n<script type=\"text/javascript\" src=\"https://tistory1.daumcdn.net/tistory_admin/userblog/tistory-b023ef240b5354b4032720d25c4381285c0333f9/static/script/common.js\"></script>\\n<script type=\"text/javascript\">window.roosevelt_params_queue = window.roosevelt_params_queue || [{channel_id: \\'dk\\', channel_label: \\'{tistory}\\'}]</script>\\n<script type=\"text/javascript\" src=\"//t1.daumcdn.net/midas/rt/dk_bt/roosevelt_dk_bt.js\" async=\"async\"></script>\\n<script type=\"text/javascript\" src=\"https://tistory1.daumcdn.net/tistory_admin/userblog/tistory-b023ef240b5354b4032720d25c4381285c0333f9/static/script/menubar.min.js\"></script>\\n\\n                \\n                <script>window.tiara = {\"svcDomain\":\"user.tistory.com\",\"section\":\"\\xea\\xb8\\x80\\xeb\\xb7\\xb0\",\"trackPage\":\"\\xea\\xb8\\x80\\xeb\\xb7\\xb0_\\xeb\\xb3\\xb4\\xea\\xb8\\xb0\",\"page\":\"\\xea\\xb8\\x80\\xeb\\xb7\\xb0\",\"key\":\"4442027-1\",\"customProps\":{\"userId\":\"0\",\"blogId\":\"4442027\",\"entryId\":\"1\",\"role\":\"guest\",\"trackPage\":\"\\xea\\xb8\\x80\\xeb\\xb7\\xb0_\\xeb\\xb3\\xb4\\xea\\xb8\\xb0\",\"filterTarget\":false},\"entry\":{\"entryId\":\"1\",\"categoryName\":\"\\xed\\x81\\xac\\xeb\\xa1\\xa4\\xeb\\xa7\\x81\",\"categoryId\":\"836119\",\"author\":\"4727327\",\"image\":\"\",\"plink\":\"/1\",\"tags\":[]},\"kakaoAppKey\":\"3e6ddd834b023f24221217e370daed18\",\"appUserId\":\"null\"}</script>\\n<script type=\"module\" src=\"https://t1.daumcdn.net/tistory_admin/frontend/tiara/v1.0.0/index.js\"></script>\\n<script src=\"https://t1.daumcdn.net/tistory_admin/frontend/tiara/v1.0.0/polyfills-legacy.min.js\" nomodule=\"true\" defer=\"true\"></script>\\n<script src=\"https://t1.daumcdn.net/tistory_admin/frontend/tiara/v1.0.0/index-legacy.js\" nomodule=\"true\" defer=\"true\"></script>\\n\\n                </body>\\n\\n</html>'\n"
          ]
        }
      ]
    },
    {
      "cell_type": "code",
      "source": [
        "from urllib.request import urlopen\n",
        "from bs4 import BeautifulSoup\n",
        "\n",
        "url = \"https://ai-dev.tistory.com/1\"\n",
        "html = urlopen(url)\n",
        "bs_obj = BeautifulSoup(html, \"html.parser\")\n",
        "print(bs_obj)"
      ],
      "metadata": {
        "colab": {
          "base_uri": "https://localhost:8080/"
        },
        "id": "SBE73uXS5RIu",
        "outputId": "5e7a2b28-4360-4f39-8794-1135a1520ee7"
      },
      "execution_count": 22,
      "outputs": [
        {
          "output_type": "stream",
          "name": "stdout",
          "text": [
            "<!DOCTYPE html>\n",
            "\n",
            "<html lang=\"ko\">\n",
            "<head>\n",
            "<script type=\"text/javascript\">if (!window.T) { window.T = {} }\n",
            "window.T.config = {\"TOP_SSL_URL\":\"https://www.tistory.com\",\"PREVIEW\":false,\"ROLE\":\"guest\",\"PREV_PAGE\":\"\",\"NEXT_PAGE\":\"\",\"BLOG\":{\"id\":4442027,\"name\":\"ai-dev\",\"title\":\"인공지능 개발의 모든 것\",\"isDormancy\":false,\"nickName\":\"로스카츠\",\"status\":\"open\",\"profileStatus\":\"normal\"},\"NEED_COMMENT_LOGIN\":false,\"COMMENT_LOGIN_CONFIRM_MESSAGE\":\"\",\"LOGIN_URL\":\"https://www.tistory.com/auth/login/?redirectUrl=https://ai-dev.tistory.com/1\",\"DEFAULT_URL\":\"https://ai-dev.tistory.com\",\"USER\":{\"name\":null,\"homepage\":null,\"id\":0,\"profileImage\":null},\"SUBSCRIPTION\":{\"status\":\"none\",\"isConnected\":false,\"isPending\":false,\"isWait\":false,\"isProcessing\":false,\"isNone\":true},\"IS_LOGIN\":false,\"HAS_BLOG\":false,\"IS_SUPPORT\":false,\"TOP_URL\":\"http://www.tistory.com\",\"JOIN_URL\":\"https://www.tistory.com/member/join\",\"ROLE_GROUP\":\"visitor\"};\n",
            "window.T.entryInfo = {\"entryId\":1,\"isAuthor\":false,\"categoryId\":836119,\"categoryLabel\":\"크롤링\"};\n",
            "window.appInfo = {\"domain\":\"tistory.com\",\"topUrl\":\"https://www.tistory.com\",\"loginUrl\":\"https://www.tistory.com/auth/login\",\"logoutUrl\":\"https://www.tistory.com/auth/logout\"};\n",
            "window.initData = {};\n",
            "\n",
            "window.TistoryBlog = {\n",
            "    basePath: \"\",\n",
            "    url: \"https://ai-dev.tistory.com\",\n",
            "    tistoryUrl: \"https://ai-dev.tistory.com\",\n",
            "    manageUrl: \"https://ai-dev.tistory.com/manage\",\n",
            "    token: \"EAMP/A0QnrT0hwU5rsoXEezMoweycx4Iimp+ZJu4XkOAHIEyo2GSPAHLxzV1bkS1\"\n",
            "};\n",
            "var servicePath = \"\";\n",
            "var blogURL = \"\";</script>\n",
            "<!-- BusinessLicenseInfo - START -->\n",
            "<link href=\"https://tistory1.daumcdn.net/tistory_admin/userblog/tistory-b023ef240b5354b4032720d25c4381285c0333f9/static/plugin/BusinessLicenseInfo/style.css\" rel=\"stylesheet\" type=\"text/css\"/>\n",
            "<script>function switchFold(entryId) {\n",
            "    var businessLayer = document.getElementById(\"businessInfoLayer_\" + entryId);\n",
            "\n",
            "    if (businessLayer) {\n",
            "        if (businessLayer.className.indexOf(\"unfold_license\") > 0) {\n",
            "            businessLayer.className = \"business_license_layer\";\n",
            "        } else {\n",
            "            businessLayer.className = \"business_license_layer unfold_license\";\n",
            "        }\n",
            "    }\n",
            "}\n",
            "</script>\n",
            "<!-- BusinessLicenseInfo - END -->\n",
            "<!-- DaumShow - START -->\n",
            "<style type=\"text/css\">#daumSearchBox {\n",
            "    height: 21px;\n",
            "    background-image: url(//i1.daumcdn.net/imgsrc.search/search_all/show/tistory/plugin/bg_search2_2.gif);\n",
            "    margin: 5px auto;\n",
            "    padding: 0;\n",
            "}\n",
            "\n",
            "#daumSearchBox input {\n",
            "    background: none;\n",
            "    margin: 0;\n",
            "    padding: 0;\n",
            "    border: 0;\n",
            "}\n",
            "\n",
            "#daumSearchBox #daumLogo {\n",
            "    width: 34px;\n",
            "    height: 21px;\n",
            "    float: left;\n",
            "    margin-right: 5px;\n",
            "    background-image: url(//i1.daumcdn.net/img-media/tistory/img/bg_search1_2_2010ci.gif);\n",
            "}\n",
            "\n",
            "#daumSearchBox #show_q {\n",
            "    background-color: transparent;\n",
            "    border: none;\n",
            "    font: 12px Gulim, Sans-serif;\n",
            "    color: #555;\n",
            "    margin-top: 4px;\n",
            "    margin-right: 15px;\n",
            "    float: left;\n",
            "}\n",
            "\n",
            "#daumSearchBox #show_btn {\n",
            "    background-image: url(//i1.daumcdn.net/imgsrc.search/search_all/show/tistory/plugin/bt_search_2.gif);\n",
            "    width: 37px;\n",
            "    height: 21px;\n",
            "    float: left;\n",
            "    margin: 0;\n",
            "    cursor: pointer;\n",
            "    text-indent: -1000em;\n",
            "}\n",
            "</style>\n",
            "<!-- DaumShow - END -->\n",
            "<!-- System - START -->\n",
            "<!-- System - END -->\n",
            "<!-- TistoryProfileLayer - START -->\n",
            "<link href=\"https://tistory1.daumcdn.net/tistory_admin/userblog/tistory-b023ef240b5354b4032720d25c4381285c0333f9/static/plugin/TistoryProfileLayer/style.css\" rel=\"stylesheet\" type=\"text/css\"/>\n",
            "<script src=\"https://tistory1.daumcdn.net/tistory_admin/userblog/tistory-b023ef240b5354b4032720d25c4381285c0333f9/static/plugin/TistoryProfileLayer/script.js\" type=\"text/javascript\"></script>\n",
            "<!-- TistoryProfileLayer - END -->\n",
            "<meta content=\"IE=Edge\" http-equiv=\"X-UA-Compatible\"/>\n",
            "<meta content=\"telephone=no\" name=\"format-detection\"/>\n",
            "<script crossorigin=\"anonymous\" integrity=\"sha256-9/aliU8dGd2tb6OSsuzixeV4y/faTqgFtohetphbbj0=\" src=\"//t1.daumcdn.net/tistory_admin/lib/jquery/jquery-3.5.1.min.js\"></script>\n",
            "<script defer=\"\" src=\"//t1.daumcdn.net/tistory_admin/lib/lightbox/js/lightbox-v2.10.0.min.js\"></script>\n",
            "<script src=\"//t1.daumcdn.net/tiara/js/v1/tiara.min.js\" type=\"text/javascript\"></script><meta content=\"always\" name=\"referrer\">\n",
            "<meta content=\"ca-host-pub-9691043933427338\" name=\"google-adsense-platform-account\">\n",
            "<meta content=\"tistory.com\" name=\"google-adsense-platform-domain\"/>\n",
            "<meta content=\"Hello, world!\" name=\"description\"/>\n",
            "<meta content=\"article\" property=\"og:type\"/>\n",
            "<meta content=\"https://ai-dev.tistory.com/1\" property=\"og:url\"/>\n",
            "<meta content=\"로스카츠\" property=\"og.article.author\"/>\n",
            "<meta content=\"인공지능 개발의 모든 것\" property=\"og:site_name\"/>\n",
            "<meta content=\"크롤링의 세계에 오신 것을 환영합니다.\" property=\"og:title\"/>\n",
            "<meta content=\"로스카츠\" name=\"by\"/>\n",
            "<meta content=\"Hello, world!\" property=\"og:description\"/>\n",
            "<meta content=\"https://img1.daumcdn.net/thumb/R800x0/?scode=mtistory2&amp;fname=https%3A%2F%2Ft1.daumcdn.net%2Ftistory_admin%2Fstatic%2Fimages%2FopenGraph%2Fopengraph.png\" property=\"og:image\"/>\n",
            "<meta content=\"summary_large_image\" name=\"twitter:card\"/>\n",
            "<meta content=\"@TISTORY\" name=\"twitter:site\"/>\n",
            "<meta content=\"크롤링의 세계에 오신 것을 환영합니다.\" name=\"twitter:title\"/>\n",
            "<meta content=\"Hello, world!\" name=\"twitter:description\"/>\n",
            "<meta content=\"https://img1.daumcdn.net/thumb/R800x0/?scode=mtistory2&amp;fname=https%3A%2F%2Ft1.daumcdn.net%2Ftistory_admin%2Fstatic%2Fimages%2FopenGraph%2Fopengraph.png\" property=\"twitter:image\"/>\n",
            "<meta content=\"https://ai-dev.tistory.com/1\" property=\"dg:plink\"/>\n",
            "<meta name=\"plink\"/>\n",
            "<meta content=\"크롤링의 세계에 오신 것을 환영합니다.\" name=\"title\"/>\n",
            "<meta content=\"인공지능 개발의 모든 것\" name=\"article:media_name\"/>\n",
            "<meta content=\"https://ai-dev.tistory.com/m/1\" property=\"article:mobile_url\"/>\n",
            "<meta content=\"https://ai-dev.tistory.com/1\" property=\"article:pc_url\"/>\n",
            "<meta content=\"https://ai-dev.tistory.com/m/1\" property=\"article:mobile_view_url\"/>\n",
            "<meta content=\"https://ai-dev.tistory.com/1\" property=\"article:pc_view_url\"/>\n",
            "<meta content=\"https://ai-dev.tistory.com/m/1\" property=\"article:talk_channel_view_url\"/>\n",
            "<meta content=\"https://www.tistory.com\" property=\"article:pc_service_home\"/>\n",
            "<meta content=\"https://www.tistory.com/m\" property=\"article:mobile_service_home\"/>\n",
            "<meta content=\"4442027_1\" property=\"article:txid\"/>\n",
            "<meta content=\"2021-01-21T14:06:56+09:00\" property=\"article:published_time\"/>\n",
            "<meta content=\"20210121020656\" property=\"og:regDate\"/>\n",
            "<meta content=\"2021-01-21T14:06:56+09:00\" property=\"article:modified_time\"/>\n",
            "<link href=\"https://t1.daumcdn.net/tistory_admin/favicon/tistory_favicon_32x32.ico\" rel=\"icon\" sizes=\"any\"/>\n",
            "<link href=\"https://t1.daumcdn.net/tistory_admin/top_v2/bi-tistory-favicon.svg\" rel=\"icon\" type=\"image/svg+xml\"/>\n",
            "<link href=\"https://t1.daumcdn.net/tistory_admin/top_v2/tistory-apple-touch-favicon.png\" rel=\"apple-touch-icon\"/>\n",
            "<link href=\"https://t1.daumcdn.net/tistory_admin/lib/lightbox/css/lightbox.min.css\" rel=\"stylesheet\" type=\"text/css\"/>\n",
            "<link href=\"https://tistory1.daumcdn.net/tistory_admin/userblog/tistory-b023ef240b5354b4032720d25c4381285c0333f9/static/style/font.css\" rel=\"stylesheet\" type=\"text/css\"/>\n",
            "<link href=\"https://tistory1.daumcdn.net/tistory_admin/userblog/tistory-b023ef240b5354b4032720d25c4381285c0333f9/static/style/content.css\" rel=\"stylesheet\" type=\"text/css\"/>\n",
            "<link href=\"https://tistory1.daumcdn.net/tistory_admin/userblog/tistory-b023ef240b5354b4032720d25c4381285c0333f9/static/style/uselessPMargin.css\" rel=\"stylesheet\" type=\"text/css\"/>\n",
            "<script type=\"text/javascript\">(function() {\n",
            "    var tjQuery = jQuery.noConflict(true);\n",
            "    window.tjQuery = tjQuery;\n",
            "    window.orgjQuery = window.jQuery; window.jQuery = tjQuery;\n",
            "    window.jQuery = window.orgjQuery; delete window.orgjQuery;\n",
            "})()</script>\n",
            "<script src=\"https://tistory1.daumcdn.net/tistory_admin/userblog/tistory-b023ef240b5354b4032720d25c4381285c0333f9/static/script/base.js\" type=\"text/javascript\"></script>\n",
            "<script src=\"//developers.kakao.com/sdk/js/kakao.min.js\" type=\"text/javascript\"></script>\n",
            "<meta charset=\"utf-8\"/>\n",
            "<meta content=\"user-scalable=no, initial-scale=1.0, maximum-scale=1.0, minimum-scale=1.0, width=device-width\" name=\"viewport\"/>\n",
            "<title>크롤링의 세계에 오신 것을 환영합니다.</title>\n",
            "<link href=\"https://tistory1.daumcdn.net/tistory/0/pg_Poster/style.css\" rel=\"stylesheet\"/>\n",
            "<script src=\"//t1.daumcdn.net/tistory_admin/lib/jquery/jquery-1.12.4.min.js\"></script>\n",
            "<style type=\"text/css\">.another_category {\n",
            "    border: 1px solid #E5E5E5;\n",
            "    padding: 10px 10px 5px;\n",
            "    margin: 10px 0;\n",
            "    clear: both;\n",
            "}\n",
            "\n",
            ".another_category h4 {\n",
            "    font-size: 12px !important;\n",
            "    margin: 0 !important;\n",
            "    border-bottom: 1px solid #E5E5E5 !important;\n",
            "    padding: 2px 0 6px !important;\n",
            "}\n",
            "\n",
            ".another_category h4 a {\n",
            "    font-weight: bold !important;\n",
            "}\n",
            "\n",
            ".another_category table {\n",
            "    table-layout: fixed;\n",
            "    border-collapse: collapse;\n",
            "    width: 100% !important;\n",
            "    margin-top: 10px !important;\n",
            "}\n",
            "\n",
            "* html .another_category table {\n",
            "    width: auto !important;\n",
            "}\n",
            "\n",
            "*:first-child + html .another_category table {\n",
            "    width: auto !important;\n",
            "}\n",
            "\n",
            ".another_category th, .another_category td {\n",
            "    padding: 0 0 4px !important;\n",
            "}\n",
            "\n",
            ".another_category th {\n",
            "    text-align: left;\n",
            "    font-size: 12px !important;\n",
            "    font-weight: normal;\n",
            "    word-break: break-all;\n",
            "    overflow: hidden;\n",
            "    line-height: 1.5;\n",
            "}\n",
            "\n",
            ".another_category td {\n",
            "    text-align: right;\n",
            "    width: 80px;\n",
            "    font-size: 11px;\n",
            "}\n",
            "\n",
            ".another_category th a {\n",
            "    font-weight: normal;\n",
            "    text-decoration: none;\n",
            "    border: none !important;\n",
            "}\n",
            "\n",
            ".another_category th a.current {\n",
            "    font-weight: bold;\n",
            "    text-decoration: none !important;\n",
            "    border-bottom: 1px solid !important;\n",
            "}\n",
            "\n",
            ".another_category th span {\n",
            "    font-weight: normal;\n",
            "    text-decoration: none;\n",
            "    font: 10px Tahoma, Sans-serif;\n",
            "    border: none !important;\n",
            "}\n",
            "\n",
            ".another_category_color_gray, .another_category_color_gray h4 {\n",
            "    border-color: #E5E5E5 !important;\n",
            "}\n",
            "\n",
            ".another_category_color_gray * {\n",
            "    color: #909090 !important;\n",
            "}\n",
            "\n",
            ".another_category_color_gray th a.current {\n",
            "    border-color: #909090 !important;\n",
            "}\n",
            "\n",
            ".another_category_color_gray h4, .another_category_color_gray h4 a {\n",
            "    color: #737373 !important;\n",
            "}\n",
            "\n",
            ".another_category_color_red, .another_category_color_red h4 {\n",
            "    border-color: #F6D4D3 !important;\n",
            "}\n",
            "\n",
            ".another_category_color_red * {\n",
            "    color: #E86869 !important;\n",
            "}\n",
            "\n",
            ".another_category_color_red th a.current {\n",
            "    border-color: #E86869 !important;\n",
            "}\n",
            "\n",
            ".another_category_color_red h4, .another_category_color_red h4 a {\n",
            "    color: #ED0908 !important;\n",
            "}\n",
            "\n",
            ".another_category_color_green, .another_category_color_green h4 {\n",
            "    border-color: #CCE7C8 !important;\n",
            "}\n",
            "\n",
            ".another_category_color_green * {\n",
            "    color: #64C05B !important;\n",
            "}\n",
            "\n",
            ".another_category_color_green th a.current {\n",
            "    border-color: #64C05B !important;\n",
            "}\n",
            "\n",
            ".another_category_color_green h4, .another_category_color_green h4 a {\n",
            "    color: #3EA731 !important;\n",
            "}\n",
            "\n",
            ".another_category_color_blue, .another_category_color_blue h4 {\n",
            "    border-color: #C8DAF2 !important;\n",
            "}\n",
            "\n",
            ".another_category_color_blue * {\n",
            "    color: #477FD6 !important;\n",
            "}\n",
            "\n",
            ".another_category_color_blue th a.current {\n",
            "    border-color: #477FD6 !important;\n",
            "}\n",
            "\n",
            ".another_category_color_blue h4, .another_category_color_blue h4 a {\n",
            "    color: #1960CA !important;\n",
            "}\n",
            "\n",
            ".another_category_color_violet, .another_category_color_violet h4 {\n",
            "    border-color: #E1CEEC !important;\n",
            "}\n",
            "\n",
            ".another_category_color_violet * {\n",
            "    color: #9D64C5 !important;\n",
            "}\n",
            "\n",
            ".another_category_color_violet th a.current {\n",
            "    border-color: #9D64C5 !important;\n",
            "}\n",
            "\n",
            ".another_category_color_violet h4, .another_category_color_violet h4 a {\n",
            "    color: #7E2CB5 !important;\n",
            "}\n",
            "</style>\n",
            "<link href=\"https://tistory1.daumcdn.net/tistory_admin/userblog/tistory-b023ef240b5354b4032720d25c4381285c0333f9/static/style/revenue.css\" rel=\"stylesheet\" type=\"text/css\">\n",
            "<link href=\"https://ai-dev.tistory.com/1\" rel=\"canonical\"/>\n",
            "<!-- BEGIN STRUCTURED_DATA -->\n",
            "<script type=\"application/ld+json\">\n",
            "    {\"@context\":\"http://schema.org\",\"@type\":\"BlogPosting\",\"mainEntityOfPage\":{\"@id\":\"https://ai-dev.tistory.com/1\",\"name\":null},\"url\":\"https://ai-dev.tistory.com/1\",\"headline\":\"크롤링의 세계에 오신 것을 환영합니다.\",\"description\":\"Hello, world!\",\"author\":{\"@type\":\"Person\",\"name\":\"로스카츠\",\"logo\":null},\"image\":{\"@type\":\"ImageObject\",\"url\":\"https://img1.daumcdn.net/thumb/R800x0/?scode=mtistory2&fname=https%3A%2F%2Ft1.daumcdn.net%2Ftistory_admin%2Fstatic%2Fimages%2FopenGraph%2Fopengraph.png\",\"width\":\"800px\",\"height\":\"800px\"},\"datePublished\":\"20210121T14:06:56\",\"dateModified\":\"20210121T14:06:56\",\"publisher\":{\"@type\":\"Organization\",\"name\":\"TISTORY\",\"logo\":{\"@type\":\"ImageObject\",\"url\":\"https://t1.daumcdn.net/tistory_admin/static/images/openGraph/opengraph.png\",\"width\":\"800px\",\"height\":\"800px\"}}}\n",
            "</script>\n",
            "<!-- END STRUCTURED_DATA -->\n",
            "<link href=\"https://tistory1.daumcdn.net/tistory_admin/userblog/tistory-b023ef240b5354b4032720d25c4381285c0333f9/static/style/dialog.css\" rel=\"stylesheet\" type=\"text/css\"/>\n",
            "<link href=\"//t1.daumcdn.net/tistory_admin/www/style/top/font.css\" rel=\"stylesheet\" type=\"text/css\"/>\n",
            "<link href=\"https://tistory1.daumcdn.net/tistory_admin/userblog/tistory-b023ef240b5354b4032720d25c4381285c0333f9/static/style/postBtn.css\" rel=\"stylesheet\" type=\"text/css\"/>\n",
            "<link href=\"https://tistory1.daumcdn.net/tistory_admin/userblog/tistory-b023ef240b5354b4032720d25c4381285c0333f9/static/style/comment.css\" rel=\"stylesheet\" type=\"text/css\"/>\n",
            "<link href=\"https://tistory1.daumcdn.net/tistory_admin/userblog/tistory-b023ef240b5354b4032720d25c4381285c0333f9/static/style/tistory.css\" rel=\"stylesheet\" type=\"text/css\"/>\n",
            "<script src=\"https://tistory1.daumcdn.net/tistory_admin/userblog/tistory-b023ef240b5354b4032720d25c4381285c0333f9/static/script/common.js\" type=\"text/javascript\"></script>\n",
            "<script defer=\"\" src=\"https://tistory1.daumcdn.net/tistory_admin/userblog/tistory-b023ef240b5354b4032720d25c4381285c0333f9/static/script/comment.js\" type=\"text/javascript\"></script>\n",
            "</link></meta></meta></head>\n",
            "<body class=\"color-gray post-type-text paging-view-more\" id=\"tt-body-page\">\n",
            "<div id=\"acc-nav\">\n",
            "<a href=\"#content\">본문 바로가기</a>\n",
            "</div>\n",
            "<div id=\"wrap\">\n",
            "<header id=\"header\">\n",
            "<h1><a href=\"https://ai-dev.tistory.com/\">인공지능 개발의 모든 것</a></h1>\n",
            "<button class=\"mobile-menu\" type=\"button\"><span>메뉴</span></button>\n",
            "<div class=\"menu\">\n",
            "<nav id=\"gnb\">\n",
            "<ul class=\"tt_category\"><li class=\"\"><a class=\"link_tit\" href=\"/category\"> 분류 전체보기 <span class=\"c_cnt\">(2)</span> </a>\n",
            "<ul class=\"category_list\"><li class=\"\"><a class=\"link_item\" href=\"/category/%ED%81%AC%EB%A1%A4%EB%A7%81\"> 크롤링 <span class=\"c_cnt\">(2)</span> </a></li>\n",
            "</ul>\n",
            "</li>\n",
            "</ul>\n",
            "</nav>\n",
            "<div class=\"social-link\">\n",
            "</div>\n",
            "<p>POWERED BY TISTORY</p>\n",
            "</div>\n",
            "<div class=\"search\">\n",
            "<label class=\"screen_out\" for=\"search\">블로그 내 검색</label>\n",
            "<input id=\"search\" name=\"search\" onkeypress=\"if (event.keyCode == 13) { try {\n",
            "    window.location.href = '/search' + '/' + looseURIEncode(document.getElementsByName('search')[0].value);\n",
            "    document.getElementsByName('search')[0].value = '';\n",
            "    return false;\n",
            "} catch (e) {} }\" placeholder=\"검색내용을 입력하세요.\" type=\"text\" value=\"\"/>\n",
            "<button onclick=\"try {\n",
            "    window.location.href = '/search' + '/' + looseURIEncode(document.getElementsByName('search')[0].value);\n",
            "    document.getElementsByName('search')[0].value = '';\n",
            "    return false;\n",
            "} catch (e) {}\" type=\"submit\">검색</button>\n",
            "</div>\n",
            "</header>\n",
            "<hr/>\n",
            "<section class=\"container\">\n",
            "<article id=\"content\">\n",
            "<div class=\"inner\">\n",
            "<div class=\"hgroup\">\n",
            "<div class=\"category\">크롤링</div>\n",
            "<h1>크롤링의 세계에 오신 것을 환영합니다. </h1>\n",
            "<div class=\"post-meta\">\n",
            "<span class=\"author\">로스카츠</span>\n",
            "<span class=\"date\">2021. 1. 21. 14:06</span>\n",
            "</div>\n",
            "</div>\n",
            "<div class=\"entry-content\" id=\"article-view\">\n",
            "<!-- System - START -->\n",
            "<!-- System - END -->\n",
            "<div class=\"tt_article_useless_p_margin contents_style\"><p>Hello, world!</p></div>\n",
            "<!-- System - START -->\n",
            "<!-- System - END -->\n",
            "<div class=\"container_postbtn #post_button_group\">\n",
            "<div class=\"postbtn_like\"><script>window.ReactionButtonType = 'reaction';\n",
            "window.ReactionApiUrl = '//ai-dev.tistory.com/reaction';\n",
            "window.ReactionReqBody = {\n",
            "    entryId: 1\n",
            "}</script>\n",
            "<div class=\"wrap_btn\" id=\"reaction-1\"></div>\n",
            "<script src=\"https://tistory1.daumcdn.net/tistory_admin/userblog/tistory-b023ef240b5354b4032720d25c4381285c0333f9/static/script/reaction-button-container.min.js\"></script><div class=\"wrap_btn wrap_btn_share\"><button aria-expanded=\"false\" class=\"btn_post sns_btn btn_share\" data-blog-title=\"인공지능 개발의 모든 것\" data-description=\"Hello, world!\" data-pc-url=\"https://ai-dev.tistory.com/1\" data-profile-image=\"https://t1.daumcdn.net/tistory_admin/static/manage/images/r3/default_L.png\" data-profile-name=\"로스카츠\" data-relative-pc-url=\"/1\" data-thumbnail-url=\"https://t1.daumcdn.net/tistory_admin/static/images/openGraph/opengraph.png\" data-title=\"크롤링의 세계에 오신 것을 환영합니다.\" type=\"button\"><span class=\"ico_postbtn ico_share\">공유하기</span></button>\n",
            "<div class=\"layer_post\" id=\"tistorySnsLayer\"></div>\n",
            "</div><div class=\"wrap_btn wrap_btn_etc\" data-category-visibility=\"public\" data-entry-id=\"1\" data-entry-visibility=\"public\"><button aria-expanded=\"false\" class=\"btn_post btn_etc2\" type=\"button\"><span class=\"ico_postbtn ico_etc\">게시글 관리</span></button>\n",
            "<div class=\"layer_post\" id=\"tistoryEtcLayer\"></div>\n",
            "</div></div>\n",
            "<button class=\"btn_menu_toolbar btn_subscription #subscribe\" data-blog-id=\"4442027\" data-device=\"web_pc\" data-url=\"https://ai-dev.tistory.com/1\" type=\"button\"><em class=\"txt_state\">구독하기</em><strong class=\"txt_tool_id\">인공지능 개발의 모든 것</strong><span class=\"img_common_tistory ico_check_type1\"></span></button> <div data-tistory-react-app=\"SupportButton\"></div>\n",
            "</div>\n",
            "<!-- PostListinCategory - START -->\n",
            "<div class=\"another_category another_category_color_gray\">\n",
            "<h4>'<a href=\"/category/%ED%81%AC%EB%A1%A4%EB%A7%81\">크롤링</a>' 카테고리의 다른 글</h4>\n",
            "<table>\n",
            "<tr>\n",
            "<th><a href=\"/2\">크롤링 예제 페이지 - 02</a>  <span>(6)</span></th>\n",
            "<td>2021.08.08</td>\n",
            "</tr>\n",
            "</table>\n",
            "</div>\n",
            "<!-- PostListinCategory - END -->\n",
            "</div>\n",
            "<div class=\"related-articles\">\n",
            "<h2><strong>'크롤링'</strong> Related Articles</h2>\n",
            "<ul>\n",
            "<li>\n",
            "<a href=\"/2?category=836119\">\n",
            "<span class=\"thum\">\n",
            "</span>\n",
            "<span class=\"title\">크롤링 예제 페이지 - 02</span>\n",
            "</a>\n",
            "</li>\n",
            "</ul>\n",
            "</div>\n",
            "<div data-tistory-react-app=\"Namecard\"></div><div id=\"entry1Comment\">\n",
            "<div class=\"comments\">\n",
            "<div data-tistory-react-app=\"Comment\"></div>\n",
            "</div>\n",
            "</div>\n",
            "<script type=\"text/javascript\">loadedComments[1]=true;\n",
            "findFragmentAndHighlight(1);</script>\n",
            "</div>\n",
            "</article>\n",
            "</section>\n",
            "<hr/>\n",
            "<footer id=\"footer\">\n",
            "<p class=\"copyright\">DESIGN BY <a href=\"#\">TISTORY</a> <a class=\"admin\" href=\"https://ai-dev.tistory.com/manage\">관리자</a></p>\n",
            "</footer>\n",
            "</div>\n",
            "<script src=\"https://tistory1.daumcdn.net/tistory/0/pg_Poster/images/script.js\"></script>\n",
            "<div class=\"#menubar menu_toolbar\">\n",
            "<h2 class=\"screen_out\">티스토리툴바</h2>\n",
            "</div>\n",
            "<div class=\"#menubar menu_toolbar\"></div>\n",
            "<div class=\"layer_tooltip\">\n",
            "<div class=\"inner_layer_tooltip\">\n",
            "<p class=\"desc_g\"></p>\n",
            "</div>\n",
            "</div>\n",
            "<iframe id=\"editEntry\" src=\"//ai-dev.tistory.com/api\" style=\"position:absolute;width:1px;height:1px;left:-100px;top:-100px\"></iframe>\n",
            "<!-- DragSearchHandler - START -->\n",
            "<script src=\"//search1.daumcdn.net/search/statics/common/js/g/search_dragselection.min.js\"></script>\n",
            "<!-- DragSearchHandler - END -->\n",
            "<script type=\"text/javascript\">(function($) {\n",
            "    $(document).ready(function() {\n",
            "        lightbox.options.fadeDuration = 200;\n",
            "        lightbox.options.resizeDuration = 200;\n",
            "        lightbox.options.wrapAround = false;\n",
            "        lightbox.options.albumLabel = \"%1 / %2\";\n",
            "    })\n",
            "})(tjQuery);</script>\n",
            "<div style=\"margin:0; padding:0; border:none; background:none; float:none; clear:none; z-index:0\"></div>\n",
            "<script src=\"https://tistory1.daumcdn.net/tistory_admin/userblog/tistory-b023ef240b5354b4032720d25c4381285c0333f9/static/script/common.js\" type=\"text/javascript\"></script>\n",
            "<script type=\"text/javascript\">window.roosevelt_params_queue = window.roosevelt_params_queue || [{channel_id: 'dk', channel_label: '{tistory}'}]</script>\n",
            "<script async=\"async\" src=\"//t1.daumcdn.net/midas/rt/dk_bt/roosevelt_dk_bt.js\" type=\"text/javascript\"></script>\n",
            "<script src=\"https://tistory1.daumcdn.net/tistory_admin/userblog/tistory-b023ef240b5354b4032720d25c4381285c0333f9/static/script/menubar.min.js\" type=\"text/javascript\"></script>\n",
            "<script>window.tiara = {\"svcDomain\":\"user.tistory.com\",\"section\":\"글뷰\",\"trackPage\":\"글뷰_보기\",\"page\":\"글뷰\",\"key\":\"4442027-1\",\"customProps\":{\"userId\":\"0\",\"blogId\":\"4442027\",\"entryId\":\"1\",\"role\":\"guest\",\"trackPage\":\"글뷰_보기\",\"filterTarget\":false},\"entry\":{\"entryId\":\"1\",\"categoryName\":\"크롤링\",\"categoryId\":\"836119\",\"author\":\"4727327\",\"image\":\"\",\"plink\":\"/1\",\"tags\":[]},\"kakaoAppKey\":\"3e6ddd834b023f24221217e370daed18\",\"appUserId\":\"null\"}</script>\n",
            "<script src=\"https://t1.daumcdn.net/tistory_admin/frontend/tiara/v1.0.0/index.js\" type=\"module\"></script>\n",
            "<script defer=\"true\" nomodule=\"true\" src=\"https://t1.daumcdn.net/tistory_admin/frontend/tiara/v1.0.0/polyfills-legacy.min.js\"></script>\n",
            "<script defer=\"true\" nomodule=\"true\" src=\"https://t1.daumcdn.net/tistory_admin/frontend/tiara/v1.0.0/index-legacy.js\"></script>\n",
            "</body>\n",
            "</html>\n"
          ]
        }
      ]
    },
    {
      "cell_type": "code",
      "source": [
        "title = bs_obj.find_all(\"h1\") # html 문서으 제목은 h1 태그 안에 있다.\n",
        "print(title)"
      ],
      "metadata": {
        "colab": {
          "base_uri": "https://localhost:8080/"
        },
        "id": "n3WFDPNf6Jon",
        "outputId": "8662ed2b-63e5-444b-8955-a0753eb99ea4"
      },
      "execution_count": 23,
      "outputs": [
        {
          "output_type": "stream",
          "name": "stdout",
          "text": [
            "[<h1><a href=\"https://ai-dev.tistory.com/\">인공지능 개발의 모든 것</a></h1>, <h1>크롤링의 세계에 오신 것을 환영합니다. </h1>]\n"
          ]
        }
      ]
    },
    {
      "cell_type": "code",
      "source": [
        "print(title[1])"
      ],
      "metadata": {
        "colab": {
          "base_uri": "https://localhost:8080/"
        },
        "id": "ZTkZWLdj6xuw",
        "outputId": "ca773bed-88be-4103-f42b-5b22da6f10a6"
      },
      "execution_count": 24,
      "outputs": [
        {
          "output_type": "stream",
          "name": "stdout",
          "text": [
            "<h1>크롤링의 세계에 오신 것을 환영합니다. </h1>\n"
          ]
        }
      ]
    },
    {
      "cell_type": "code",
      "source": [
        "print(title[1].text)"
      ],
      "metadata": {
        "colab": {
          "base_uri": "https://localhost:8080/"
        },
        "id": "H4J7ofqm7xXT",
        "outputId": "8dd5ff90-6e08-4e0e-d891-551930523d6a"
      },
      "execution_count": 25,
      "outputs": [
        {
          "output_type": "stream",
          "name": "stdout",
          "text": [
            "크롤링의 세계에 오신 것을 환영합니다. \n"
          ]
        }
      ]
    },
    {
      "cell_type": "code",
      "source": [
        "contents = bs_obj.find_all(\"p\")\n",
        "print(contents)"
      ],
      "metadata": {
        "colab": {
          "base_uri": "https://localhost:8080/"
        },
        "id": "bwlYRF6772ng",
        "outputId": "5ebbefe9-ca0a-437c-a40e-53a56f09c3c2"
      },
      "execution_count": 26,
      "outputs": [
        {
          "output_type": "stream",
          "name": "stdout",
          "text": [
            "[<p>POWERED BY TISTORY</p>, <p>Hello, world!</p>, <p class=\"copyright\">DESIGN BY <a href=\"#\">TISTORY</a> <a class=\"admin\" href=\"https://ai-dev.tistory.com/manage\">관리자</a></p>, <p class=\"desc_g\"></p>]\n"
          ]
        }
      ]
    },
    {
      "cell_type": "code",
      "source": [
        "print(contents[1])"
      ],
      "metadata": {
        "colab": {
          "base_uri": "https://localhost:8080/"
        },
        "id": "zEjfhtLg7_iK",
        "outputId": "5cb21faf-19fe-45cb-861e-769e91490ea0"
      },
      "execution_count": 27,
      "outputs": [
        {
          "output_type": "stream",
          "name": "stdout",
          "text": [
            "<p>Hello, world!</p>\n"
          ]
        }
      ]
    },
    {
      "cell_type": "code",
      "source": [
        "print(contents[1].text)"
      ],
      "metadata": {
        "colab": {
          "base_uri": "https://localhost:8080/"
        },
        "id": "lPPlbvY_8Ghg",
        "outputId": "07746717-d2a9-4545-a4d7-1ba75dd622b4"
      },
      "execution_count": 28,
      "outputs": [
        {
          "output_type": "stream",
          "name": "stdout",
          "text": [
            "Hello, world!\n"
          ]
        }
      ]
    },
    {
      "cell_type": "code",
      "source": [
        "# 전체코드\n",
        "\n",
        "from urllib.request import urlopen\n",
        "from bs4 import BeautifulSoup\n",
        "\n",
        "url = \"https://ai-dev.tistory.com/1?category=836119\"\n",
        "html = urlopen(url)\n",
        "bs_obj = BeautifulSoup(html, \"html.parser\")\n",
        "\n",
        "# 제목 추출\n",
        "title = bs_obj.find_all(\"h1\")\n",
        "print(\"콘텐츠 원본 : \", title)\n",
        "print(\"태그+제목만 추출 : \", title[1])\n",
        "print(\"제목만 추출 : \", title[1].text)\n",
        "\n",
        "# 본문 내용 추출\n",
        "contents = bs_obj.find_all(\"p\")\n",
        "print(\"콘텐츠 원본 : \", contents)\n",
        "print(\"태그+내용만 추출 : \", contents[1])\n",
        "print(\"내용만 추출 : \", contents[1].text)"
      ],
      "metadata": {
        "colab": {
          "base_uri": "https://localhost:8080/"
        },
        "id": "Pr7ovWGF8LZ9",
        "outputId": "b3ecec50-64a4-4428-aaff-9ca0e078aa54"
      },
      "execution_count": 33,
      "outputs": [
        {
          "output_type": "stream",
          "name": "stdout",
          "text": [
            "콘텐츠 원본 :  [<h1><a href=\"https://ai-dev.tistory.com/\">인공지능 개발의 모든 것</a></h1>, <h1>크롤링의 세계에 오신 것을 환영합니다. </h1>]\n",
            "태그+제목만 추출 :  <h1>크롤링의 세계에 오신 것을 환영합니다. </h1>\n",
            "제목만 추출 :  크롤링의 세계에 오신 것을 환영합니다. \n",
            "콘텐츠 원본 :  [<p>POWERED BY TISTORY</p>, <p>Hello, world!</p>, <p class=\"copyright\">DESIGN BY <a href=\"#\">TISTORY</a> <a class=\"admin\" href=\"https://ai-dev.tistory.com/manage\">관리자</a></p>, <p class=\"desc_g\"></p>]\n",
            "태그+내용만 추출 :  <p>Hello, world!</p>\n",
            "내용만 추출 :  Hello, world!\n"
          ]
        }
      ]
    },
    {
      "cell_type": "code",
      "source": [],
      "metadata": {
        "id": "Np9X1D6P8_Oc"
      },
      "execution_count": null,
      "outputs": []
    }
  ]
}