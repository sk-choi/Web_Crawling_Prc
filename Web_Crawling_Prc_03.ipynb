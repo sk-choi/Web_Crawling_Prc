{
  "nbformat": 4,
  "nbformat_minor": 0,
  "metadata": {
    "colab": {
      "private_outputs": true,
      "provenance": [],
      "authorship_tag": "ABX9TyOGyAtAed3BeduDIkaK+yVQ"
    },
    "kernelspec": {
      "name": "python3",
      "display_name": "Python 3"
    },
    "language_info": {
      "name": "python"
    }
  },
  "cells": [
    {
      "cell_type": "code",
      "execution_count": null,
      "metadata": {
        "id": "8F-IakWHMU26"
      },
      "outputs": [],
      "source": [
        "#목록 정보 크롤링\n",
        "\n",
        "#목록을 만드는 태그에는 대표적으로 <ul>과 <ol>이 있다.\n",
        "#<ul> : Unordered List의 약자로 순서가 필요없는 목록 만들 때 사용\n",
        "#<ol> : Ordered List의 약자로 숫자나 알파벳을 이용해 순서가 있는 목록 만들 때 사용\n",
        "\n",
        "#<li> : 목록 내에서 데이터 항목을 지정할 때 사용, 주로 하위 태그로 함께 사용됨"
      ]
    },
    {
      "cell_type": "code",
      "source": [
        "from urllib.request import urlopen\n",
        "from bs4 import BeautifulSoup\n",
        "\n",
        "url = \"https://ai-dev.tistory.com/2\"\n",
        "html = urlopen(url)\n",
        "bs_obj = BeautifulSoup(html, \"html.parser\")\n",
        "com_list = bs_obj.find_all(\"li\")\n",
        "com_list"
      ],
      "metadata": {
        "id": "_ILz_lqlNHbb"
      },
      "execution_count": null,
      "outputs": []
    },
    {
      "cell_type": "markdown",
      "source": [
        "![web_crawling.PNG](data:image/png;base64,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)"
      ],
      "metadata": {
        "id": "ARVNAQU1QzG6"
      }
    },
    {
      "cell_type": "code",
      "source": [
        "# 원하는 목록만을 추출하기 위해서 <li> 태그의 상위 태그인 <ul> 태그를 이용해야 한다.\n",
        "\n",
        "com_list01 = bs_obj.find_all(\"ul\", {\"style\":\"list-style-type: disc;\"})\n",
        "com_list01"
      ],
      "metadata": {
        "id": "kQgF6LOCOLi7"
      },
      "execution_count": null,
      "outputs": []
    },
    {
      "cell_type": "code",
      "source": [
        "com_list01[0]"
      ],
      "metadata": {
        "id": "Q4TOPjQCPxNi"
      },
      "execution_count": null,
      "outputs": []
    },
    {
      "cell_type": "code",
      "source": [
        "com_list02 = com_list01[0].find_all(\"li\")\n",
        "for idx, element in enumerate(com_list02):\n",
        "  print(idx, element.text)"
      ],
      "metadata": {
        "id": "LcZSWxlCN2Ub"
      },
      "execution_count": null,
      "outputs": []
    }
  ]
}